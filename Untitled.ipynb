{
 "cells": [
  {
   "cell_type": "markdown",
   "metadata": {},
   "source": [
    "# フラクタル次元計算テスト\n",
    "\n",
    "\n",
    "REF: http://yamaguchiyuto.hatenablog.com/entry/2014/04/28/095451\n"
   ]
  },
  {
   "cell_type": "code",
   "execution_count": 1,
   "metadata": {},
   "outputs": [
    {
     "name": "stdout",
     "output_type": "stream",
     "text": [
      "3.8066624897703196 2.0794415416798357\n",
      "3.1135153092103742 3.332204510175204\n",
      "2.4203681286504293 3.9889840465642745\n",
      "1.7272209480904839 4.7535901911063645\n",
      "1.0340737675305385 6.733401891837359\n",
      "0.3409265869705932 7.84971375760487\n"
     ]
    },
    {
     "ename": "KeyboardInterrupt",
     "evalue": "",
     "output_type": "error",
     "traceback": [
      "\u001b[1;31m---------------------------------------------------------------------------\u001b[0m",
      "\u001b[1;31mKeyboardInterrupt\u001b[0m                         Traceback (most recent call last)",
      "\u001b[1;32m<ipython-input-1-817a6e7f23bf>\u001b[0m in \u001b[0;36m<module>\u001b[1;34m\u001b[0m\n\u001b[0;32m     42\u001b[0m \u001b[0mi\u001b[0m \u001b[1;33m=\u001b[0m \u001b[0mx\u001b[0m\u001b[1;33m/\u001b[0m\u001b[1;36m10\u001b[0m\u001b[1;33m\u001b[0m\u001b[1;33m\u001b[0m\u001b[0m\n\u001b[0;32m     43\u001b[0m \u001b[1;32mwhile\u001b[0m \u001b[0mi\u001b[0m \u001b[1;33m>\u001b[0m \u001b[0mx\u001b[0m\u001b[1;33m/\u001b[0m\u001b[1;36m1000\u001b[0m\u001b[1;33m:\u001b[0m\u001b[1;33m\u001b[0m\u001b[1;33m\u001b[0m\u001b[0m\n\u001b[1;32m---> 44\u001b[1;33m     \u001b[0mn\u001b[0m \u001b[1;33m=\u001b[0m \u001b[0mcount\u001b[0m\u001b[1;33m(\u001b[0m\u001b[0mimg\u001b[0m\u001b[1;33m,\u001b[0m \u001b[0mx\u001b[0m\u001b[1;33m,\u001b[0m \u001b[0my\u001b[0m\u001b[1;33m,\u001b[0m \u001b[0mint\u001b[0m\u001b[1;33m(\u001b[0m\u001b[0mi\u001b[0m\u001b[1;33m)\u001b[0m\u001b[1;33m)\u001b[0m\u001b[1;33m\u001b[0m\u001b[1;33m\u001b[0m\u001b[0m\n\u001b[0m\u001b[0;32m     45\u001b[0m     \u001b[0mprint\u001b[0m\u001b[1;33m(\u001b[0m\u001b[0mmath\u001b[0m\u001b[1;33m.\u001b[0m\u001b[0mlog\u001b[0m\u001b[1;33m(\u001b[0m\u001b[0mi\u001b[0m\u001b[1;33m)\u001b[0m\u001b[1;33m,\u001b[0m \u001b[0mmath\u001b[0m\u001b[1;33m.\u001b[0m\u001b[0mlog\u001b[0m\u001b[1;33m(\u001b[0m\u001b[0mn\u001b[0m\u001b[1;33m)\u001b[0m\u001b[1;33m)\u001b[0m\u001b[1;33m\u001b[0m\u001b[1;33m\u001b[0m\u001b[0m\n\u001b[0;32m     46\u001b[0m     \u001b[0mlog_i\u001b[0m\u001b[1;33m.\u001b[0m\u001b[0mappend\u001b[0m\u001b[1;33m(\u001b[0m\u001b[0mmath\u001b[0m\u001b[1;33m.\u001b[0m\u001b[0mlog\u001b[0m\u001b[1;33m(\u001b[0m\u001b[0mi\u001b[0m\u001b[1;33m)\u001b[0m\u001b[1;33m)\u001b[0m\u001b[1;33m\u001b[0m\u001b[1;33m\u001b[0m\u001b[0m\n",
      "\u001b[1;32m<ipython-input-1-817a6e7f23bf>\u001b[0m in \u001b[0;36mcount\u001b[1;34m(img, x, y, b)\u001b[0m\n\u001b[0;32m     21\u001b[0m             \u001b[1;32mif\u001b[0m \u001b[0mflag\u001b[0m\u001b[1;33m:\u001b[0m\u001b[1;33m\u001b[0m\u001b[1;33m\u001b[0m\u001b[0m\n\u001b[0;32m     22\u001b[0m                 \u001b[1;32mbreak\u001b[0m\u001b[1;33m\u001b[0m\u001b[1;33m\u001b[0m\u001b[0m\n\u001b[1;32m---> 23\u001b[1;33m         \u001b[0mi\u001b[0m \u001b[1;33m+=\u001b[0m \u001b[0mb\u001b[0m\u001b[1;33m\u001b[0m\u001b[1;33m\u001b[0m\u001b[0m\n\u001b[0m\u001b[0;32m     24\u001b[0m         \u001b[1;32mif\u001b[0m \u001b[0mi\u001b[0m \u001b[1;33m>=\u001b[0m \u001b[0mx\u001b[0m\u001b[1;33m:\u001b[0m\u001b[1;33m\u001b[0m\u001b[1;33m\u001b[0m\u001b[0m\n\u001b[0;32m     25\u001b[0m             \u001b[1;34m\"\"\" ボックスが右端に達したら左端に戻す \"\"\"\u001b[0m\u001b[1;33m\u001b[0m\u001b[1;33m\u001b[0m\u001b[0m\n",
      "\u001b[1;31mKeyboardInterrupt\u001b[0m: "
     ]
    }
   ],
   "source": [
    "import sys\n",
    "import math\n",
    "from PIL import Image\n",
    "import matplotlib.pyplot as plt\n",
    "\n",
    "def count(img, x, y, b):\n",
    "    \"\"\" img: 対象画像、x,y: 画像のサイズ、b: ボックスのサイズ \"\"\"\n",
    "    i = 0\n",
    "    j = 0\n",
    "    c = 0\n",
    "    while i < x and j < y:\n",
    "        flag = False\n",
    "        for k in range(0, b):\n",
    "            for l in range(0, b):\n",
    "                if i+k < x and j+l < y:\n",
    "                    if img.getpixel((i+k,j+l)) == 0:\n",
    "                        \"\"\" ボックスに図形が含まれていたらカウントして次の図形へ \"\"\"\n",
    "                        c += 1\n",
    "                        flag = True\n",
    "                        break\n",
    "            if flag:\n",
    "                break\n",
    "        i += b\n",
    "        if i >= x:\n",
    "            \"\"\" ボックスが右端に達したら左端に戻す \"\"\"\n",
    "            i = 0\n",
    "            j += b\n",
    "\n",
    "    return c # 図形が含まれていたボックスの数を返す\n",
    "\n",
    "\n",
    "# img = Image.open('http://cdn-ak.f.st-hatena.com/images/fotolife/y/yamaguchiyuto/20140428/20140428084709.png').convert('1') # 画像を読み込んで二値化\n",
    "# img = Image.open('20140428084709.png').convert('1') # 画像を読み込んで二値化\n",
    "# img = Image.open('20140428084717.png').convert('1') # 画像を読み込んで二値化\n",
    "img = Image.open('zyuusen.jpg').convert('1') # 画像を読み込んで二値化\n",
    "\n",
    "x, y = img.size # 画像サイズを取得\n",
    "\n",
    "log_i = []\n",
    "log_n = []\n",
    "\n",
    "i = x/10\n",
    "while i > x/1000:\n",
    "    n = count(img, x, y, int(i))\n",
    "    print(math.log(i), math.log(n))\n",
    "    log_i.append(math.log(i))\n",
    "    log_n.append(math.log(n))\n",
    "    i = i / 2\n",
    "\n",
    "plt.plot(log_i, log_n, '-o')\n",
    "plt.show()"
   ]
  },
  {
   "cell_type": "code",
   "execution_count": 9,
   "metadata": {},
   "outputs": [
    {
     "data": {
      "text/plain": [
       "array([-1.52596133, 10.6521381 ])"
      ]
     },
     "execution_count": 9,
     "metadata": {},
     "output_type": "execute_result"
    }
   ],
   "source": [
    "# https://qiita.com/wrblue_mica34/items/0f26612207b78b68c4a1\n",
    "import numpy as np\n",
    "np.polyfit(log_i, log_n, 1)"
   ]
  },
  {
   "cell_type": "code",
   "execution_count": 5,
   "metadata": {},
   "outputs": [
    {
     "name": "stdout",
     "output_type": "stream",
     "text": [
      "4.382026634673881 3.9889840465642745\n",
      "3.6888794541139363 4.955827057601261\n",
      "2.995732273553991 6.102558594613569\n",
      "2.302585092994046 7.130098510125578\n",
      "1.6094379124341003 8.181720455128108\n",
      "0.9162907318741551 9.415075523607037\n",
      "0.22314355131420976 10.195111844220532\n"
     ]
    },
    {
     "data": {
      "image/png": "[encoded data removed]",
      "text/plain": [
       "<Figure size 432x288 with 1 Axes>"
      ]
     },
     "metadata": {
      "needs_background": "light"
     },
     "output_type": "display_data"
    },
    {
     "data": {
      "image/png": "[encoded data removed]",
      "text/plain": [
       "<Figure size 432x288 with 2 Axes>"
      ]
     },
     "metadata": {
      "needs_background": "light"
     },
     "output_type": "display_data"
    },
    {
     "data": {
      "text/plain": [
       "-1.5259613282775644"
      ]
     },
     "execution_count": 5,
     "metadata": {},
     "output_type": "execute_result"
    }
   ],
   "source": [
    "import sys\n",
    "import math\n",
    "from PIL import Image\n",
    "import numpy as np\n",
    "import matplotlib.pyplot as plt\n",
    "\n",
    "\n",
    "def count(img, x, y, b):\n",
    "    \"\"\" img: 対象画像、x,y: 画像のサイズ、b: ボックスのサイズ \"\"\"\n",
    "    i = 0\n",
    "    j = 0\n",
    "    c = 0\n",
    "    while i < x and j < y:\n",
    "        flag = False\n",
    "        for k in range(0, b):\n",
    "            for l in range(0, b):\n",
    "                if i+k < x and j+l < y:\n",
    "                    if img.getpixel((i+k,j+l)) == 0:\n",
    "                        \"\"\" ボックスに図形が含まれていたらカウントして次の図形へ \"\"\"\n",
    "                        c += 1\n",
    "                        flag = True\n",
    "                        break\n",
    "            if flag:\n",
    "                break\n",
    "        i += b\n",
    "        if i >= x:\n",
    "            \"\"\" ボックスが右端に達したら左端に戻す \"\"\"\n",
    "            i = 0\n",
    "            j += b\n",
    "\n",
    "    return c # 図形が含まれていたボックスの数を返す\n",
    "\n",
    "\n",
    "def calc_fractal_dim(img):\n",
    "    \"\"\"\n",
    "    \"\"\"\n",
    "    x, y = img.size # 画像サイズを取得\n",
    "    \n",
    "    log_i = []\n",
    "    log_n = []\n",
    "\n",
    "    i = x/10\n",
    "    while i > x/1000:\n",
    "        n = count(img, x, y, int(i))\n",
    "        print(math.log(i), math.log(n))\n",
    "        log_i.append(math.log(i))\n",
    "        log_n.append(math.log(n))\n",
    "        i = i / 2\n",
    "    \n",
    "    a, b = np.polyfit(log_i, log_n, 1)\n",
    "    if 1:\n",
    "        fig, (ax1, ax2) = plt.subplots(1, 2)\n",
    "        ax1.plot(log_i, log_n, '-o')\n",
    "        ax2.imshow(img)\n",
    "        plt.show()\n",
    "    return a\n",
    "\n",
    "# img = Image.open('http://cdn-ak.f.st-hatena.com/images/fotolife/y/yamaguchiyuto/20140428/20140428084709.png').convert('1') # 画像を読み込んで二値化\n",
    "img = Image.open('20140428084709.png').convert('1') # 画像を読み込んで二値化\n",
    "img = Image.open('20140428084717.png').convert('1') # 画像を読み込んで二値化\n",
    "# img = Image.open('zyuusen.jpg').convert('1') # 画像を読み込んで二値化\n",
    "\n",
    "plt.imshow(img)\n",
    "calc_fractal_dim(img)\n",
    "\n"
   ]
  }
 ],
 "metadata": {
  "kernelspec": {
   "display_name": "Python 3",
   "language": "python",
   "name": "python3"
  }
 },
 "nbformat": 4,
 "nbformat_minor": 2
}
